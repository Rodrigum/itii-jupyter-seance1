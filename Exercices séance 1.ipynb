{
 "cells": [
  {
   "cell_type": "code",
   "execution_count": 3,
   "metadata": {},
   "outputs": [
    {
     "name": "stdout",
     "output_type": "stream",
     "text": [
      "Exercice séance 1\n"
     ]
    }
   ],
   "source": [
    "print(\"Exercice séance 1\")"
   ]
  },
  {
   "cell_type": "code",
   "execution_count": 21,
   "metadata": {},
   "outputs": [
    {
     "name": "stdout",
     "output_type": "stream",
     "text": [
      "Exercice 1: Écrire un programme qui, à partir de la saisie d'un rayon et d'une hauteur, calcule le volume d'un cône droit.\n",
      "\n",
      "Saisissez l'hauteur du cône.\n",
      "4\n",
      "Saisissez le rayon du cône.\n",
      "2\n",
      "52.63789013914324\n"
     ]
    }
   ],
   "source": [
    "import math\n",
    "\n",
    "print(\"Exercice 1: Écrire un programme qui, à partir de la saisie d'un rayon et d'une hauteur, calcule le volume d'un cône droit.\")\n",
    "print(\"\")\n",
    "print(\"Saisissez l'hauteur du cône.\")\n",
    "hauteur = int(input())\n",
    "print(\"Saisissez le rayon du cône.\")\n",
    "rayon = int(input())\n",
    "volume =(rayon*rayon)*hauteur*(1/3)*(math.pi*math.pi)\n",
    "print(volume)\n"
   ]
  },
  {
   "cell_type": "code",
   "execution_count": 25,
   "metadata": {},
   "outputs": [
    {
     "name": "stdout",
     "output_type": "stream",
     "text": [
      "Exercice 2: Faire la somme des n cubes.\n",
      "\n",
      "Saisissez n\n",
      "2\n",
      "9\n",
      "\n",
      "Somme des n premiers entier\n",
      "Saisissez n\n",
      "2\n",
      "3\n"
     ]
    }
   ],
   "source": [
    "print(\"Exercice 2: Faire la somme des n cubes.\")\n",
    "print(\"\")\n",
    "print(\"Saisissez n\")\n",
    "n = int(input())\n",
    "somme = 0\n",
    "for i in range(n):\n",
    "    somme = somme + ((i+1)*(i+1)*(i+1))\n",
    "print(somme)\n",
    "print(\"\")\n",
    "print(\"Somme des n premiers entier\")\n",
    "print(\"Saisissez n\")\n",
    "n = int(input())\n",
    "somme = 0\n",
    "for i in range(n):\n",
    "    somme = somme + (i+1)\n",
    "print(somme)"
   ]
  },
  {
   "cell_type": "code",
   "execution_count": 32,
   "metadata": {},
   "outputs": [
    {
     "name": "stdout",
     "output_type": "stream",
     "text": [
      "Exercice 3: \n",
      "Combien y-a-t-il d’occurrences du chiffre 1 dans les nombres de1 à 999? Par exemple le chiffre 1 apparaît une fois dans 51 mais deux fois dans 131\n",
      "\n",
      "0\n",
      "112\n",
      "\n",
      "Écrire une fonction qui calcule l’écriture décimale d’un entier, sans recourir au log\n",
      "\n",
      "2\n",
      "2.0\n"
     ]
    }
   ],
   "source": [
    "print(\"Exercice 3: \")\n",
    "print(\"Combien y-a-t-il d’occurrences du chiffre 1 dans les nombres de1 à 999? Par exemple le chiffre 1 apparaît une fois dans 51 mais deux fois dans 131\")\n",
    "print(\"\")\n",
    "iteration = 0\n",
    "print(iteration)\n",
    "for i in range (1000):\n",
    "    if i == 1:\n",
    "        iteration = iteration +1\n",
    "    if i%10 == 1:\n",
    "        iteration = iteration +1\n",
    "    if i%100 == 1:\n",
    "        iteration = iteration +1\n",
    "    if i%1000 == 1:\n",
    "        iteration = iteration +1\n",
    "print(iteration)\n",
    "\n",
    "print(\"\")\n",
    "print(\"Écrire une fonction qui calcule l’écriture décimale d’un entier, sans recourir au log\")\n",
    "print(\"\")\n",
    "entier = int(input())\n",
    "print(float(entier))"
   ]
  },
  {
   "cell_type": "code",
   "execution_count": null,
   "metadata": {},
   "outputs": [],
   "source": []
  }
 ],
 "metadata": {
  "kernelspec": {
   "display_name": "Python 3",
   "language": "python",
   "name": "python3"
  },
  "language_info": {
   "codemirror_mode": {
    "name": "ipython",
    "version": 3
   },
   "file_extension": ".py",
   "mimetype": "text/x-python",
   "name": "python",
   "nbconvert_exporter": "python",
   "pygments_lexer": "ipython3",
   "version": "3.7.6"
  }
 },
 "nbformat": 4,
 "nbformat_minor": 4
}
