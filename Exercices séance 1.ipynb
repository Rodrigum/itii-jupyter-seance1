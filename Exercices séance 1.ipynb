{
 "cells": [
  {
   "cell_type": "code",
   "execution_count": 3,
   "metadata": {},
   "outputs": [
    {
     "name": "stdout",
     "output_type": "stream",
     "text": [
      "Exercice séance 1\n"
     ]
    }
   ],
   "source": [
    "print(\"Exercice séance 1\")"
   ]
  },
  {
   "cell_type": "code",
   "execution_count": 21,
   "metadata": {},
   "outputs": [
    {
     "name": "stdout",
     "output_type": "stream",
     "text": [
      "Exercice 1: Écrire un programme qui, à partir de la saisie d'un rayon et d'une hauteur, calcule le volume d'un cône droit.\n",
      "\n",
      "Saisissez l'hauteur du cône.\n",
      "4\n",
      "Saisissez le rayon du cône.\n",
      "2\n",
      "52.63789013914324\n"
     ]
    }
   ],
   "source": [
    "import math\n",
    "\n",
    "print(\"Exercice 1: Écrire un programme qui, à partir de la saisie d'un rayon et d'une hauteur, calcule le volume d'un cône droit.\")\n",
    "print(\"\")\n",
    "print(\"Saisissez l'hauteur du cône.\")\n",
    "hauteur = int(input())\n",
    "print(\"Saisissez le rayon du cône.\")\n",
    "rayon = int(input())\n",
    "volume =(rayon*rayon)*hauteur*(1/3)*(math.pi*math.pi)\n",
    "print(volume)\n"
   ]
  },
  {
   "cell_type": "code",
   "execution_count": null,
   "metadata": {},
   "outputs": [],
   "source": []
  }
 ],
 "metadata": {
  "kernelspec": {
   "display_name": "Python 3",
   "language": "python",
   "name": "python3"
  },
  "language_info": {
   "codemirror_mode": {
    "name": "ipython",
    "version": 3
   },
   "file_extension": ".py",
   "mimetype": "text/x-python",
   "name": "python",
   "nbconvert_exporter": "python",
   "pygments_lexer": "ipython3",
   "version": "3.7.6"
  }
 },
 "nbformat": 4,
 "nbformat_minor": 4
}
